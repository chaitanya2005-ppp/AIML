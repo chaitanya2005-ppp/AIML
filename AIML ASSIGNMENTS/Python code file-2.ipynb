{
  "cells": [
    {
      "cell_type": "code",
      "source": [
        "from collections import deque\n",
        "import heapq\n",
        "\n",
        "# Graph and heuristic\n",
        "graph = {\n",
        "    'A': [('B', 1), ('C', 4)],\n",
        "    'B': [('D', 2), ('E', 5)],\n",
        "    'C': [('F', 3)],\n",
        "    'D': [],\n",
        "    'E': [('G', 1)],\n",
        "    'F': [('G', 2)],\n",
        "    'G': []\n",
        "}\n",
        "\n",
        "heuristic = {\n",
        "    'A': 7,\n",
        "    'B': 6,\n",
        "    'C': 5,\n",
        "    'D': 4,\n",
        "    'E': 2,\n",
        "    'F': 3,\n",
        "    'G': 0\n",
        "}\n",
        "\n",
        "# Uninformed Search: BFS\n",
        "def bfs(start, goal):\n",
        "    visited = set()\n",
        "    queue = deque([(start, [start])])\n",
        "    while queue:\n",
        "        node, path = queue.popleft()\n",
        "        if node == goal:\n",
        "            return path\n",
        "        if node not in visited:\n",
        "            visited.add(node)\n",
        "            for neighbor, _ in graph[node]:\n",
        "                queue.append((neighbor, path + [neighbor]))\n",
        "    return None\n",
        "\n",
        "# Uninformed Search: DFS\n",
        "def dfs(start, goal):\n",
        "    visited = set()\n",
        "    stack = [(start, [start])]\n",
        "    while stack:\n",
        "        node, path = stack.pop()\n",
        "        if node == goal:\n",
        "            return path\n",
        "        if node not in visited:\n",
        "            visited.add(node)\n",
        "            for neighbor, _ in reversed(graph[node]):\n",
        "                stack.append((neighbor, path + [neighbor]))\n",
        "    return None\n",
        "\n",
        "# Informed Search: Greedy Best-First Search\n",
        "def greedy_best_first(start, goal):\n",
        "    visited = set()\n",
        "    queue = [(heuristic[start], start, [start])]\n",
        "    while queue:\n",
        "        _, node, path = heapq.heappop(queue)\n",
        "        if node == goal:\n",
        "            return path\n",
        "        if node not in visited:\n",
        "            visited.add(node)\n",
        "            for neighbor, _ in graph[node]:\n",
        "                heapq.heappush(queue, (heuristic[neighbor], neighbor, path + [neighbor]))\n",
        "    return None\n",
        "\n",
        "# Informed Search: A* Search\n",
        "def a_star(start, goal):\n",
        "    queue = [(heuristic[start], 0, start, [start])]  # (f = g+h, g, node, path)\n",
        "    visited = {}\n",
        "    while queue:\n",
        "        f, g, node, path = heapq.heappop(queue)\n",
        "        if node == goal:\n",
        "            return path\n",
        "        if node not in visited or g < visited[node]:\n",
        "            visited[node] = g\n",
        "            for neighbor, cost in graph[node]:\n",
        "                new_g = g + cost\n",
        "                new_f = new_g + heuristic[neighbor]\n",
        "                heapq.heappush(queue, (new_f, new_g, neighbor, path + [neighbor]))\n",
        "    return None\n",
        "\n",
        "# Test the algorithms\n",
        "print(\"BFS:\", bfs('A', 'G'))\n",
        "print(\"DFS:\", dfs('A', 'G'))\n",
        "print(\"Greedy Best-First:\", greedy_best_first('A', 'G'))\n",
        "print(\"A* Search:\", a_star('A', 'G'))\n"
      ],
      "metadata": {
        "id": "VkORgnKflYfk",
        "outputId": "cfe35352-c9e3-4f13-de82-5836626d8ee8",
        "colab": {
          "base_uri": "https://localhost:8080/"
        }
      },
      "execution_count": 1,
      "outputs": [
        {
          "output_type": "stream",
          "name": "stdout",
          "text": [
            "BFS: ['A', 'B', 'E', 'G']\n",
            "DFS: ['A', 'B', 'E', 'G']\n",
            "Greedy Best-First: ['A', 'C', 'F', 'G']\n",
            "A* Search: ['A', 'B', 'E', 'G']\n"
          ]
        }
      ]
    }
  ],
  "metadata": {
    "colab": {
      "name": "Welcome To Colab",
      "toc_visible": true,
      "provenance": []
    },
    "kernelspec": {
      "display_name": "Python 3",
      "name": "python3"
    }
  },
  "nbformat": 4,
  "nbformat_minor": 0
}